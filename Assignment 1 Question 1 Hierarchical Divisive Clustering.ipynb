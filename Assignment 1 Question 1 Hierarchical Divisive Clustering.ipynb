{
 "cells": [
  {
   "cell_type": "code",
   "execution_count": 1,
   "id": "fbc8a738",
   "metadata": {},
   "outputs": [
    {
     "name": "stderr",
     "output_type": "stream",
     "text": [
      "C:\\ProgramData\\anaconda3\\lib\\site-packages\\sklearn\\cluster\\_kmeans.py:870: FutureWarning: The default value of `n_init` will change from 10 to 'auto' in 1.4. Set the value of `n_init` explicitly to suppress the warning\n",
      "  warnings.warn(\n",
      "C:\\ProgramData\\anaconda3\\lib\\site-packages\\sklearn\\cluster\\_kmeans.py:1382: UserWarning: KMeans is known to have a memory leak on Windows with MKL, when there are less chunks than available threads. You can avoid it by setting the environment variable OMP_NUM_THREADS=1.\n",
      "  warnings.warn(\n"
     ]
    },
    {
     "name": "stdout",
     "output_type": "stream",
     "text": [
      "Cluster Assignments: [1 2 3 0 4 5 6 7 0 8]\n"
     ]
    }
   ],
   "source": [
    "from sklearn.cluster import KMeans\n",
    "import numpy as np\n",
    "\n",
    "def divisive_clustering(X, n_clusters):\n",
    "    \"\"\"\n",
    "    Perform divisive clustering using k-means.\n",
    "\n",
    "    Args:\n",
    "        X (ndarray): Input data points.\n",
    "        n_clusters (int): Number of clusters.\n",
    "\n",
    "    Returns:\n",
    "        list: List of cluster assignments for each data point.\n",
    "    \"\"\"\n",
    "    cluster_assignments = np.zeros(len(X))\n",
    "\n",
    "    # Start with one cluster containing all data points\n",
    "    current_cluster = X\n",
    "\n",
    "    while len(np.unique(cluster_assignments)) < n_clusters:\n",
    "        # Apply k-means clustering to split the current cluster into two subclusters\n",
    "        kmeans = KMeans(n_clusters=2)\n",
    "        subcluster_assignments = kmeans.fit_predict(current_cluster)\n",
    "\n",
    "        # Update cluster assignments\n",
    "        for i, assignment in enumerate(subcluster_assignments):\n",
    "            if assignment == 1:\n",
    "                cluster_assignments[i] = len(np.unique(cluster_assignments))\n",
    "\n",
    "        # Update current cluster to be the subcluster with the higher cluster index\n",
    "        current_cluster = current_cluster[subcluster_assignments == 1]\n",
    "\n",
    "    return cluster_assignments.astype(int)\n",
    "\n",
    "# Sample data points\n",
    "X = np.array([[1000], [1500], [750], [2500], [1750], [1200], [1100], [1650], [3000], [1000]])\n",
    "\n",
    "# Number of clusters\n",
    "n_clusters = 3\n",
    "\n",
    "# Perform divisive clustering\n",
    "cluster_assignments = divisive_clustering(X, n_clusters)\n",
    "\n",
    "print(\"Cluster Assignments:\", cluster_assignments)\n"
   ]
  },
  {
   "cell_type": "code",
   "execution_count": null,
   "id": "3cc021fe",
   "metadata": {},
   "outputs": [],
   "source": []
  }
 ],
 "metadata": {
  "kernelspec": {
   "display_name": "Python 3 (ipykernel)",
   "language": "python",
   "name": "python3"
  },
  "language_info": {
   "codemirror_mode": {
    "name": "ipython",
    "version": 3
   },
   "file_extension": ".py",
   "mimetype": "text/x-python",
   "name": "python",
   "nbconvert_exporter": "python",
   "pygments_lexer": "ipython3",
   "version": "3.10.9"
  }
 },
 "nbformat": 4,
 "nbformat_minor": 5
}
