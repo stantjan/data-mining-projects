{
 "cells": [
  {
   "cell_type": "code",
   "execution_count": 1,
   "id": "0c54648d",
   "metadata": {},
   "outputs": [
    {
     "name": "stdout",
     "output_type": "stream",
     "text": [
      "Cluster Assignments: [1 2 1 0 2 1 1 2 0 1]\n"
     ]
    }
   ],
   "source": [
    "from sklearn.cluster import AgglomerativeClustering\n",
    "import numpy as np\n",
    "\n",
    "# Sample data points\n",
    "X = np.array([[1000], [1500], [750], [2500], [1750], [1200], [1100], [1650], [3000], [1000]])\n",
    "\n",
    "# Number of clusters\n",
    "n_clusters = 3\n",
    "\n",
    "# Perform agglomerative hierarchical clustering\n",
    "agg_cluster = AgglomerativeClustering(n_clusters=n_clusters, linkage='ward')\n",
    "cluster_assignments = agg_cluster.fit_predict(X)\n",
    "\n",
    "print(\"Cluster Assignments:\", cluster_assignments)"
   ]
  },
  {
   "cell_type": "code",
   "execution_count": null,
   "id": "351e1666",
   "metadata": {},
   "outputs": [],
   "source": []
  }
 ],
 "metadata": {
  "kernelspec": {
   "display_name": "Python 3 (ipykernel)",
   "language": "python",
   "name": "python3"
  },
  "language_info": {
   "codemirror_mode": {
    "name": "ipython",
    "version": 3
   },
   "file_extension": ".py",
   "mimetype": "text/x-python",
   "name": "python",
   "nbconvert_exporter": "python",
   "pygments_lexer": "ipython3",
   "version": "3.10.9"
  }
 },
 "nbformat": 4,
 "nbformat_minor": 5
}
