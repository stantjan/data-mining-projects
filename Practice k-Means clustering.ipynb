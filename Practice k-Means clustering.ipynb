{
 "cells": [
  {
   "cell_type": "code",
   "execution_count": 1,
   "id": "5935fb09",
   "metadata": {},
   "outputs": [
    {
     "name": "stdout",
     "output_type": "stream",
     "text": [
      "Cluster Assignments: [1 1 1 1 1 1 1 1 1 1]\n"
     ]
    },
    {
     "name": "stderr",
     "output_type": "stream",
     "text": [
      "C:\\ProgramData\\anaconda3\\lib\\site-packages\\numpy\\core\\fromnumeric.py:3432: RuntimeWarning: Mean of empty slice.\n",
      "  return _methods._mean(a, axis=axis, dtype=dtype,\n",
      "C:\\ProgramData\\anaconda3\\lib\\site-packages\\numpy\\core\\_methods.py:190: RuntimeWarning: invalid value encountered in double_scalars\n",
      "  ret = ret.dtype.type(ret / rcount)\n"
     ]
    }
   ],
   "source": [
    "import numpy as np\n",
    "\n",
    "def k_means_clustering(data, k, max_iterations=100):\n",
    "    \"\"\"\n",
    "    Perform k-means clustering on the given data.\n",
    "\n",
    "    Args:\n",
    "        data (ndarray): Array of data points.\n",
    "        k (int): Number of clusters.\n",
    "        max_iterations (int): Maximum number of iterations.\n",
    "\n",
    "    Returns:\n",
    "        ndarray: Array containing cluster assignments for each data point.\n",
    "    \"\"\"\n",
    "    # Randomly initialize centroids\n",
    "    centroids = np.random.choice(data, size=k, replace=False)\n",
    "    \n",
    "    for _ in range(max_iterations):\n",
    "        # Assign each data point to the nearest centroid\n",
    "        assignments = np.argmin(np.abs(data[:, None] - centroids), axis=1)\n",
    "        \n",
    "        # Update centroids based on mean of data points in each group\n",
    "        new_centroids = np.array([np.mean(data[assignments == j]) for j in range(k)])\n",
    "        \n",
    "        # Check for convergence\n",
    "        if np.array_equal(centroids, new_centroids):\n",
    "            break\n",
    "        \n",
    "        centroids = new_centroids\n",
    "    \n",
    "    return assignments\n",
    "\n",
    "# Example usage\n",
    "data_points = np.array([1000, 1500, 750, 2500, 1750, 1200, 1100, 1650, 3000, 1000])\n",
    "k = 3\n",
    "cluster_assignments = k_means_clustering(data_points, k)\n",
    "print(\"Cluster Assignments:\", cluster_assignments)"
   ]
  },
  {
   "cell_type": "code",
   "execution_count": 2,
   "id": "0cf62317",
   "metadata": {},
   "outputs": [
    {
     "name": "stdout",
     "output_type": "stream",
     "text": [
      "Cluster Assignments: [1 1 1 1 1 1 1 1 1 1]\n",
      "Final Centroids: [  nan 1545.   nan]\n",
      "Clustered Data Points:\n",
      "Cluster 1: [1000, 1500, 750, 2500, 1750, 1200, 1100, 1650, 3000, 1000]\n",
      "Cluster 2: []\n",
      "Cluster 3: []\n"
     ]
    }
   ],
   "source": [
    "import numpy as np\n",
    "\n",
    "def k_means_clustering(data, k, max_iterations=100):\n",
    "    \"\"\"\n",
    "    Perform k-means clustering on the given data.\n",
    "\n",
    "    Args:\n",
    "        data (ndarray): Array of data points.\n",
    "        k (int): Number of clusters.\n",
    "        max_iterations (int): Maximum number of iterations.\n",
    "\n",
    "    Returns:\n",
    "        ndarray: Array containing cluster assignments for each data point.\n",
    "        ndarray: Array containing final cluster centroids.\n",
    "    \"\"\"\n",
    "    # Randomly initialize centroids\n",
    "    centroids = np.random.choice(data, size=k, replace=False)\n",
    "    \n",
    "    for _ in range(max_iterations):\n",
    "        # Assign each data point to the nearest centroid\n",
    "        assignments = np.argmin(np.abs(data[:, None] - centroids), axis=1)\n",
    "        \n",
    "        # Update centroids based on mean of data points in each group\n",
    "        new_centroids = np.array([np.mean(data[assignments == j]) for j in range(k)])\n",
    "        \n",
    "        # Check for convergence\n",
    "        if np.array_equal(centroids, new_centroids):\n",
    "            break\n",
    "        \n",
    "        centroids = new_centroids\n",
    "    \n",
    "    return assignments, centroids\n",
    "\n",
    "# Example usage\n",
    "data_points = np.array([1000, 1500, 750, 2500, 1750, 1200, 1100, 1650, 3000, 1000])\n",
    "k = 3\n",
    "cluster_assignments, final_centroids = k_means_clustering(data_points, k)\n",
    "\n",
    "# Create empty lists to store data points for each cluster\n",
    "clusters = [[] for _ in range(k)]\n",
    "\n",
    "# Assign data points to clusters based on final centroids\n",
    "for i, point in enumerate(data_points):\n",
    "    cluster_index = np.argmin(np.abs(point - final_centroids))\n",
    "    clusters[cluster_index].append(point)\n",
    "\n",
    "print(\"Cluster Assignments:\", cluster_assignments)\n",
    "print(\"Final Centroids:\", final_centroids)\n",
    "print(\"Clustered Data Points:\")\n",
    "for i, cluster in enumerate(clusters):\n",
    "    print(f\"Cluster {i+1}: {cluster}\")\n"
   ]
  },
  {
   "cell_type": "code",
   "execution_count": 3,
   "id": "31569020",
   "metadata": {},
   "outputs": [
    {
     "name": "stdout",
     "output_type": "stream",
     "text": [
      "Cluster Assignments: [2 1 2 0 1 2 2 1 0 2]\n",
      "Final Centroids: [2750.         1633.33333333 1010.        ]\n",
      "Clustered Data Points:\n",
      "Cluster 1: [2500, 3000]\n",
      "Cluster 2: [1500, 1750, 1650]\n",
      "Cluster 3: [1000, 750, 1200, 1100, 1000]\n"
     ]
    }
   ],
   "source": [
    "import numpy as np\n",
    "\n",
    "def k_means_clustering(data, k, max_iterations=100):\n",
    "    \"\"\"\n",
    "    Perform k-means clustering on the given data.\n",
    "\n",
    "    Args:\n",
    "        data (ndarray): Array of data points.\n",
    "        k (int): Number of clusters.\n",
    "        max_iterations (int): Maximum number of iterations.\n",
    "\n",
    "    Returns:\n",
    "        ndarray: Array containing cluster assignments for each data point.\n",
    "        ndarray: Array containing final cluster centroids.\n",
    "    \"\"\"\n",
    "    # Randomly initialize centroids\n",
    "    centroids = np.random.choice(data, size=k, replace=False)\n",
    "    \n",
    "    for _ in range(max_iterations):\n",
    "        # Assign each data point to the nearest centroid\n",
    "        assignments = np.argmin(np.abs(data[:, None] - centroids), axis=1)\n",
    "        \n",
    "        # Update centroids based on mean of data points in each group\n",
    "        new_centroids = np.array([np.mean(data[assignments == j]) for j in range(k)])\n",
    "        \n",
    "        # Check for convergence\n",
    "        if np.array_equal(centroids, new_centroids):\n",
    "            break\n",
    "        \n",
    "        centroids = new_centroids\n",
    "    \n",
    "    return assignments, centroids\n",
    "\n",
    "# Example usage\n",
    "data_points = np.array([1000, 1500, 750, 2500, 1750, 1200, 1100, 1650, 3000, 1000])\n",
    "k = 3\n",
    "cluster_assignments, final_centroids = k_means_clustering(data_points, k)\n",
    "\n",
    "# Create empty lists to store data points for each cluster\n",
    "clusters = [[] for _ in range(k)]\n",
    "\n",
    "# Assign data points to clusters based on final centroids\n",
    "for i, point in enumerate(data_points):\n",
    "    cluster_index = cluster_assignments[i]\n",
    "    clusters[cluster_index].append(point)\n",
    "\n",
    "print(\"Cluster Assignments:\", cluster_assignments)\n",
    "print(\"Final Centroids:\", final_centroids)\n",
    "print(\"Clustered Data Points:\")\n",
    "for i, cluster in enumerate(clusters):\n",
    "    print(f\"Cluster {i+1}: {cluster}\")\n"
   ]
  },
  {
   "cell_type": "code",
   "execution_count": null,
   "id": "0214d03a",
   "metadata": {},
   "outputs": [],
   "source": []
  }
 ],
 "metadata": {
  "kernelspec": {
   "display_name": "Python 3 (ipykernel)",
   "language": "python",
   "name": "python3"
  },
  "language_info": {
   "codemirror_mode": {
    "name": "ipython",
    "version": 3
   },
   "file_extension": ".py",
   "mimetype": "text/x-python",
   "name": "python",
   "nbconvert_exporter": "python",
   "pygments_lexer": "ipython3",
   "version": "3.10.9"
  }
 },
 "nbformat": 4,
 "nbformat_minor": 5
}
